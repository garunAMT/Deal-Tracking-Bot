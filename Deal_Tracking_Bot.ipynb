{
  "nbformat": 4,
  "nbformat_minor": 0,
  "metadata": {
    "colab": {
      "provenance": [],
      "authorship_tag": "ABX9TyNm4zYJWuPFwmiI4YnlJ9U9",
      "include_colab_link": true
    },
    "kernelspec": {
      "name": "python3",
      "display_name": "Python 3"
    },
    "language_info": {
      "name": "python"
    }
  },
  "cells": [
    {
      "cell_type": "markdown",
      "metadata": {
        "id": "view-in-github",
        "colab_type": "text"
      },
      "source": [
        "<a href=\"https://colab.research.google.com/github/garunAMT/Deal-Tracking-Bot/blob/main/Deal_Tracking_Bot.ipynb\" target=\"_parent\"><img src=\"https://colab.research.google.com/assets/colab-badge.svg\" alt=\"Open In Colab\"/></a>"
      ]
    },
    {
      "cell_type": "code",
      "execution_count": null,
      "metadata": {
        "colab": {
          "base_uri": "https://localhost:8080/"
        },
        "id": "sDbyTGPYRMbU",
        "outputId": "92e5f212-98da-4604-8759-83b0fcd6a9bd"
      },
      "outputs": [
        {
          "output_type": "stream",
          "name": "stdout",
          "text": [
            "Requirement already satisfied: ntscraper in /usr/local/lib/python3.10/dist-packages (0.3.13)\n",
            "Requirement already satisfied: requests in /usr/local/lib/python3.10/dist-packages (from ntscraper) (2.31.0)\n",
            "Requirement already satisfied: beautifulsoup4 in /usr/local/lib/python3.10/dist-packages (from ntscraper) (4.12.3)\n",
            "Requirement already satisfied: lxml in /usr/local/lib/python3.10/dist-packages (from ntscraper) (4.9.4)\n",
            "Requirement already satisfied: soupsieve>1.2 in /usr/local/lib/python3.10/dist-packages (from beautifulsoup4->ntscraper) (2.5)\n",
            "Requirement already satisfied: charset-normalizer<4,>=2 in /usr/local/lib/python3.10/dist-packages (from requests->ntscraper) (3.3.2)\n",
            "Requirement already satisfied: idna<4,>=2.5 in /usr/local/lib/python3.10/dist-packages (from requests->ntscraper) (3.7)\n",
            "Requirement already satisfied: urllib3<3,>=1.21.1 in /usr/local/lib/python3.10/dist-packages (from requests->ntscraper) (2.0.7)\n",
            "Requirement already satisfied: certifi>=2017.4.17 in /usr/local/lib/python3.10/dist-packages (from requests->ntscraper) (2024.6.2)\n"
          ]
        }
      ],
      "source": [
        "!pip install ntscraper\n",
        "from ntscraper import Nitter\n",
        "import pandas as pd"
      ]
    },
    {
      "cell_type": "code",
      "source": [
        "scraper = Nitter(log_level=1, skip_instance_check=False)"
      ],
      "metadata": {
        "colab": {
          "base_uri": "https://localhost:8080/"
        },
        "id": "jIzLL3uYR5uU",
        "outputId": "04234e7a-edcc-4c60-fbda-ec97aec44a80"
      },
      "execution_count": null,
      "outputs": [
        {
          "output_type": "stream",
          "name": "stderr",
          "text": [
            "Testing instances: 100%|██████████| 77/77 [00:49<00:00,  1.55it/s]\n"
          ]
        }
      ]
    },
    {
      "cell_type": "markdown",
      "source": [
        "### *List of keywords we will be looking for in the tweets*"
      ],
      "metadata": {
        "id": "BfhukZw3SXGC"
      }
    },
    {
      "cell_type": "code",
      "source": [
        "keywords = [\n",
        "    \"deal\",\n",
        "    \"venture\",\n",
        "    \"opportunity\",\n",
        "    \"investment\",\n",
        "    \"funding\",\n",
        "    \"acquisition\",\n",
        "    \"merger\",\n",
        "    \"startup\",\n",
        "    \"seed round\",\n",
        "    \"series A\",\n",
        "    \"series B\",\n",
        "    \"series C\",\n",
        "    \"angel investment\",\n",
        "    \"VC\",\n",
        "    \"capital raise\",\n",
        "    \"equity\",\n",
        "    \"exit\",\n",
        "    \"IPO\",\n",
        "    \"buyout\",\n",
        "    \"partnership\",\n",
        "    \"collaboration\",\n",
        "    \"strategic investment\",\n",
        "    \"private equity\",\n",
        "    \"fund\",\n",
        "    \"backing\",\n",
        "    \"financing\",\n",
        "    \"pre-seed\",\n",
        "    \"accelerator\",\n",
        "    \"incubator\",\n",
        "    \"business opportunity\",\n",
        "    \"growth funding\",\n",
        "    \"venture capital\"\n",
        "]"
      ],
      "metadata": {
        "id": "sSb8lrWiR6kY"
      },
      "execution_count": null,
      "outputs": []
    },
    {
      "cell_type": "code",
      "source": [
        "usernames = [\"fredwilson\", \"TechCrunch\", \"a16z\", \"sequoia\"]\n",
        "data = []\n",
        "for char in usernames:\n",
        "  result = scraper.get_tweets(char, mode='user', number=1)\n",
        "  result = result['tweets']\n",
        "  data.append(result)"
      ],
      "metadata": {
        "colab": {
          "base_uri": "https://localhost:8080/"
        },
        "id": "bS5uGLh2TXMA",
        "outputId": "e99582dc-538f-4481-fe87-bf344590e3c7"
      },
      "execution_count": null,
      "outputs": [
        {
          "output_type": "stream",
          "name": "stderr",
          "text": [
            "INFO:root:No instance specified, using random instance https://nitter.qwik.space\n",
            "INFO:root:Current stats for fredwilson: 1 tweets, 0 threads...\n",
            "INFO:root:No instance specified, using random instance https://nitter.kavin.rocks\n",
            "INFO:root:Current stats for TechCrunch: 1 tweets, 0 threads...\n",
            "INFO:root:No instance specified, using random instance https://nitter.bird.froth.zone\n",
            "WARNING:root:https://nitter.bird.froth.zone unreachable. Trying https://nitter.kavin.rocks\n",
            "INFO:root:Current stats for a16z: 1 tweets, 0 threads...\n",
            "INFO:root:No instance specified, using random instance https://nitter.bird.froth.zone\n",
            "INFO:root:Current stats for sequoia: 1 tweets, 0 threads...\n"
          ]
        }
      ]
    },
    {
      "cell_type": "code",
      "source": [
        "for i in range(len(data)):\n",
        "  if any(keyword in data[i][0]['text'].lower() for keyword in keywords):\n",
        "    datatext = data[i][0]\n",
        "    print(datatext)\n",
        "    print(\"\\n\")"
      ],
      "metadata": {
        "colab": {
          "base_uri": "https://localhost:8080/"
        },
        "id": "434mksYQcJ_C",
        "outputId": "a99fa10e-e102-4c5c-8a8e-eb90ade24f62"
      },
      "execution_count": null,
      "outputs": [
        {
          "output_type": "stream",
          "name": "stdout",
          "text": [
            "{'link': 'https://twitter.com/fredwilson/status/1792972279934267639#m', 'text': \"Hi Everyone. This Twitter account has been dormant, except when it got hacked last year, for the last eighteen months. I've been sharing my thoughts on tech, startups, VC, music, life, etc onchain at Farcaster. If you still want to hear from me on that stuff, come follow me there\", 'user': {'name': 'Fred Wilson', 'username': '@fredwilson', 'profile_id': '3580641456', 'avatar': 'https://pbs.twimg.com/profile_images/3580641456/82c873940343750638b7caa04b4652fe_bigger.jpeg'}, 'date': 'May 21, 2024 · 5:34 PM UTC', 'is-retweet': False, 'is-pinned': True, 'external-link': '', 'replying-to': [], 'quoted-post': {}, 'stats': {'comments': 28, 'retweets': 22, 'quotes': 4, 'likes': 172}, 'pictures': ['https://pbs.twimg.com/media/GOHqyYFXMAAEpNR.jpg'], 'videos': [], 'gifs': []}\n",
            "\n",
            "\n"
          ]
        }
      ]
    },
    {
      "cell_type": "code",
      "source": [
        "# Create a list of dictionaries, where each dictionary represents a tweet\n",
        "tweets_data = []\n",
        "for i in range(len(data)):\n",
        "  if any(keyword in data[i][0]['text'].lower() for keyword in keywords):\n",
        "    datatext = data[i][0]\n",
        "    tweets_data.append({\n",
        "      \"username\": datatext[\"user\"][\"username\"],\n",
        "      \"text\": datatext[\"text\"],\n",
        "      \"date\": datatext[\"date\"],\n",
        "    })\n",
        "\n",
        "# Create a pandas DataFrame from the list of dictionaries\n",
        "df = pd.DataFrame(tweets_data)\n",
        "df"
      ],
      "metadata": {
        "colab": {
          "base_uri": "https://localhost:8080/",
          "height": 89
        },
        "id": "KNGsNJ99v2Kg",
        "outputId": "11ba1333-a18f-430f-c9a3-b02a0049a67d"
      },
      "execution_count": null,
      "outputs": [
        {
          "output_type": "execute_result",
          "data": {
            "text/plain": [
              "      username                                               text  \\\n",
              "0  @fredwilson  Hi Everyone. This Twitter account has been dor...   \n",
              "\n",
              "                         date  \n",
              "0  May 21, 2024 · 5:34 PM UTC  "
            ],
            "text/html": [
              "\n",
              "  <div id=\"df-aa98f037-85ee-4193-a826-0a30f312425f\" class=\"colab-df-container\">\n",
              "    <div>\n",
              "<style scoped>\n",
              "    .dataframe tbody tr th:only-of-type {\n",
              "        vertical-align: middle;\n",
              "    }\n",
              "\n",
              "    .dataframe tbody tr th {\n",
              "        vertical-align: top;\n",
              "    }\n",
              "\n",
              "    .dataframe thead th {\n",
              "        text-align: right;\n",
              "    }\n",
              "</style>\n",
              "<table border=\"1\" class=\"dataframe\">\n",
              "  <thead>\n",
              "    <tr style=\"text-align: right;\">\n",
              "      <th></th>\n",
              "      <th>username</th>\n",
              "      <th>text</th>\n",
              "      <th>date</th>\n",
              "    </tr>\n",
              "  </thead>\n",
              "  <tbody>\n",
              "    <tr>\n",
              "      <th>0</th>\n",
              "      <td>@fredwilson</td>\n",
              "      <td>Hi Everyone. This Twitter account has been dor...</td>\n",
              "      <td>May 21, 2024 · 5:34 PM UTC</td>\n",
              "    </tr>\n",
              "  </tbody>\n",
              "</table>\n",
              "</div>\n",
              "    <div class=\"colab-df-buttons\">\n",
              "\n",
              "  <div class=\"colab-df-container\">\n",
              "    <button class=\"colab-df-convert\" onclick=\"convertToInteractive('df-aa98f037-85ee-4193-a826-0a30f312425f')\"\n",
              "            title=\"Convert this dataframe to an interactive table.\"\n",
              "            style=\"display:none;\">\n",
              "\n",
              "  <svg xmlns=\"http://www.w3.org/2000/svg\" height=\"24px\" viewBox=\"0 -960 960 960\">\n",
              "    <path d=\"M120-120v-720h720v720H120Zm60-500h600v-160H180v160Zm220 220h160v-160H400v160Zm0 220h160v-160H400v160ZM180-400h160v-160H180v160Zm440 0h160v-160H620v160ZM180-180h160v-160H180v160Zm440 0h160v-160H620v160Z\"/>\n",
              "  </svg>\n",
              "    </button>\n",
              "\n",
              "  <style>\n",
              "    .colab-df-container {\n",
              "      display:flex;\n",
              "      gap: 12px;\n",
              "    }\n",
              "\n",
              "    .colab-df-convert {\n",
              "      background-color: #E8F0FE;\n",
              "      border: none;\n",
              "      border-radius: 50%;\n",
              "      cursor: pointer;\n",
              "      display: none;\n",
              "      fill: #1967D2;\n",
              "      height: 32px;\n",
              "      padding: 0 0 0 0;\n",
              "      width: 32px;\n",
              "    }\n",
              "\n",
              "    .colab-df-convert:hover {\n",
              "      background-color: #E2EBFA;\n",
              "      box-shadow: 0px 1px 2px rgba(60, 64, 67, 0.3), 0px 1px 3px 1px rgba(60, 64, 67, 0.15);\n",
              "      fill: #174EA6;\n",
              "    }\n",
              "\n",
              "    .colab-df-buttons div {\n",
              "      margin-bottom: 4px;\n",
              "    }\n",
              "\n",
              "    [theme=dark] .colab-df-convert {\n",
              "      background-color: #3B4455;\n",
              "      fill: #D2E3FC;\n",
              "    }\n",
              "\n",
              "    [theme=dark] .colab-df-convert:hover {\n",
              "      background-color: #434B5C;\n",
              "      box-shadow: 0px 1px 3px 1px rgba(0, 0, 0, 0.15);\n",
              "      filter: drop-shadow(0px 1px 2px rgba(0, 0, 0, 0.3));\n",
              "      fill: #FFFFFF;\n",
              "    }\n",
              "  </style>\n",
              "\n",
              "    <script>\n",
              "      const buttonEl =\n",
              "        document.querySelector('#df-aa98f037-85ee-4193-a826-0a30f312425f button.colab-df-convert');\n",
              "      buttonEl.style.display =\n",
              "        google.colab.kernel.accessAllowed ? 'block' : 'none';\n",
              "\n",
              "      async function convertToInteractive(key) {\n",
              "        const element = document.querySelector('#df-aa98f037-85ee-4193-a826-0a30f312425f');\n",
              "        const dataTable =\n",
              "          await google.colab.kernel.invokeFunction('convertToInteractive',\n",
              "                                                    [key], {});\n",
              "        if (!dataTable) return;\n",
              "\n",
              "        const docLinkHtml = 'Like what you see? Visit the ' +\n",
              "          '<a target=\"_blank\" href=https://colab.research.google.com/notebooks/data_table.ipynb>data table notebook</a>'\n",
              "          + ' to learn more about interactive tables.';\n",
              "        element.innerHTML = '';\n",
              "        dataTable['output_type'] = 'display_data';\n",
              "        await google.colab.output.renderOutput(dataTable, element);\n",
              "        const docLink = document.createElement('div');\n",
              "        docLink.innerHTML = docLinkHtml;\n",
              "        element.appendChild(docLink);\n",
              "      }\n",
              "    </script>\n",
              "  </div>\n",
              "\n",
              "\n",
              "  <div id=\"id_29f67f9d-c421-43e7-a83e-dd36469cd4c0\">\n",
              "    <style>\n",
              "      .colab-df-generate {\n",
              "        background-color: #E8F0FE;\n",
              "        border: none;\n",
              "        border-radius: 50%;\n",
              "        cursor: pointer;\n",
              "        display: none;\n",
              "        fill: #1967D2;\n",
              "        height: 32px;\n",
              "        padding: 0 0 0 0;\n",
              "        width: 32px;\n",
              "      }\n",
              "\n",
              "      .colab-df-generate:hover {\n",
              "        background-color: #E2EBFA;\n",
              "        box-shadow: 0px 1px 2px rgba(60, 64, 67, 0.3), 0px 1px 3px 1px rgba(60, 64, 67, 0.15);\n",
              "        fill: #174EA6;\n",
              "      }\n",
              "\n",
              "      [theme=dark] .colab-df-generate {\n",
              "        background-color: #3B4455;\n",
              "        fill: #D2E3FC;\n",
              "      }\n",
              "\n",
              "      [theme=dark] .colab-df-generate:hover {\n",
              "        background-color: #434B5C;\n",
              "        box-shadow: 0px 1px 3px 1px rgba(0, 0, 0, 0.15);\n",
              "        filter: drop-shadow(0px 1px 2px rgba(0, 0, 0, 0.3));\n",
              "        fill: #FFFFFF;\n",
              "      }\n",
              "    </style>\n",
              "    <button class=\"colab-df-generate\" onclick=\"generateWithVariable('df')\"\n",
              "            title=\"Generate code using this dataframe.\"\n",
              "            style=\"display:none;\">\n",
              "\n",
              "  <svg xmlns=\"http://www.w3.org/2000/svg\" height=\"24px\"viewBox=\"0 0 24 24\"\n",
              "       width=\"24px\">\n",
              "    <path d=\"M7,19H8.4L18.45,9,17,7.55,7,17.6ZM5,21V16.75L18.45,3.32a2,2,0,0,1,2.83,0l1.4,1.43a1.91,1.91,0,0,1,.58,1.4,1.91,1.91,0,0,1-.58,1.4L9.25,21ZM18.45,9,17,7.55Zm-12,3A5.31,5.31,0,0,0,4.9,8.1,5.31,5.31,0,0,0,1,6.5,5.31,5.31,0,0,0,4.9,4.9,5.31,5.31,0,0,0,6.5,1,5.31,5.31,0,0,0,8.1,4.9,5.31,5.31,0,0,0,12,6.5,5.46,5.46,0,0,0,6.5,12Z\"/>\n",
              "  </svg>\n",
              "    </button>\n",
              "    <script>\n",
              "      (() => {\n",
              "      const buttonEl =\n",
              "        document.querySelector('#id_29f67f9d-c421-43e7-a83e-dd36469cd4c0 button.colab-df-generate');\n",
              "      buttonEl.style.display =\n",
              "        google.colab.kernel.accessAllowed ? 'block' : 'none';\n",
              "\n",
              "      buttonEl.onclick = () => {\n",
              "        google.colab.notebook.generateWithVariable('df');\n",
              "      }\n",
              "      })();\n",
              "    </script>\n",
              "  </div>\n",
              "\n",
              "    </div>\n",
              "  </div>\n"
            ],
            "application/vnd.google.colaboratory.intrinsic+json": {
              "type": "dataframe",
              "variable_name": "df",
              "summary": "{\n  \"name\": \"df\",\n  \"rows\": 1,\n  \"fields\": [\n    {\n      \"column\": \"username\",\n      \"properties\": {\n        \"dtype\": \"string\",\n        \"num_unique_values\": 1,\n        \"samples\": [\n          \"@fredwilson\"\n        ],\n        \"semantic_type\": \"\",\n        \"description\": \"\"\n      }\n    },\n    {\n      \"column\": \"text\",\n      \"properties\": {\n        \"dtype\": \"string\",\n        \"num_unique_values\": 1,\n        \"samples\": [\n          \"Hi Everyone. This Twitter account has been dormant, except when it got hacked last year, for the last eighteen months. I've been sharing my thoughts on tech, startups, VC, music, life, etc onchain at Farcaster. If you still want to hear from me on that stuff, come follow me there\"\n        ],\n        \"semantic_type\": \"\",\n        \"description\": \"\"\n      }\n    },\n    {\n      \"column\": \"date\",\n      \"properties\": {\n        \"dtype\": \"string\",\n        \"num_unique_values\": 1,\n        \"samples\": [\n          \"May 21, 2024 \\u00b7 5:34 PM UTC\"\n        ],\n        \"semantic_type\": \"\",\n        \"description\": \"\"\n      }\n    }\n  ]\n}"
            }
          },
          "metadata": {},
          "execution_count": 56
        }
      ]
    },
    {
      "cell_type": "code",
      "source": [
        "# Convert the DataFrame to a CSV file\n",
        "df.to_csv('tweets.csv', index=False)"
      ],
      "metadata": {
        "id": "k0VVv6uFwtzS"
      },
      "execution_count": null,
      "outputs": []
    }
  ]
}